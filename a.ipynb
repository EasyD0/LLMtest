{
 "cells": [
  {
   "cell_type": "markdown",
   "id": "a714cdce",
   "metadata": {},
   "source": [
    "## BS4 基本教程"
   ]
  },
  {
   "cell_type": "code",
   "execution_count": 1,
   "id": "5a42c041",
   "metadata": {},
   "outputs": [],
   "source": [
    "from bs4 import BeautifulSoup\n",
    "\n",
    "# 示例 HTML 内容\n",
    "html_doc = \"\"\"\n",
    "<html>\n",
    "  <body>\n",
    "    <h1>产品列表</h1>\n",
    "    <div class=\"product-card\" id=\"item1\">\n",
    "      <h2 class=\"product-name\">机械键盘\n",
    "\t  \t<h3 class=\"haha\"> test </h3>\n",
    "\t  </h2>\n",
    "\t  <p class=\"price\">499元\n",
    "\t  </p>\n",
    "    </div>\n",
    "    <div class=\"product-card\" id=\"item2\">\n",
    "      <h2 class=\"product-name\">蓝牙鼠标</h2>\n",
    "      <p class=\"price\">199元</p>\n",
    "    </div>\n",
    "  </body>\n",
    "</html>\n",
    "\"\"\"\n",
    "\n",
    "# 创建 BeautifulSoup 对象\n",
    "soup = BeautifulSoup(html_doc, 'html.parser')"
   ]
  },
  {
   "cell_type": "code",
   "execution_count": 2,
   "id": "a0c699ed",
   "metadata": {},
   "outputs": [
    {
     "name": "stdout",
     "output_type": "stream",
     "text": [
      "<h2 class=\"product-name\">机械键盘\n",
      "\t  \t<h3 class=\"haha\"> test </h3>\n",
      "</h2>\n"
     ]
    }
   ],
   "source": [
    "# 查找第一个h2标签\n",
    "first_h2 = soup.find('h2')\n",
    "print(first_h2)"
   ]
  },
  {
   "cell_type": "code",
   "execution_count": 3,
   "id": "727317b0",
   "metadata": {},
   "outputs": [
    {
     "name": "stdout",
     "output_type": "stream",
     "text": [
      "<p class=\"price\">499元\n",
      "\t  </p>\n",
      "<p class=\"price\">199元</p>\n"
     ]
    }
   ],
   "source": [
    "# 查找所有p标签，并指定class属性\n",
    "all_prices = soup.find_all('p', class_='price')\n",
    "for price_tag in all_prices:\n",
    "    print(price_tag)"
   ]
  },
  {
   "cell_type": "code",
   "execution_count": 4,
   "id": "86837330",
   "metadata": {},
   "outputs": [
    {
     "name": "stdout",
     "output_type": "stream",
     "text": [
      "{' test '}\n"
     ]
    }
   ],
   "source": [
    "# 使用CSS选择器查找第一个产品卡片中的h2标签\n",
    "first_card_h2 = soup.select_one('div.product-card h2 h3')\n",
    "print({first_card_h2.text})"
   ]
  },
  {
   "cell_type": "code",
   "execution_count": 5,
   "id": "9d2a141d",
   "metadata": {},
   "outputs": [
    {
     "name": "stdout",
     "output_type": "stream",
     "text": [
      "<div class=\"product-card\" id=\"item1\">\n",
      "<h2 class=\"product-name\">机械键盘\n",
      "\t  \t<h3 class=\"haha\"> test </h3>\n",
      "</h2>\n",
      "<p class=\"price\">499元\n",
      "\t  </p>\n",
      "</div>\n",
      "-----------------------------------\n",
      "<div class=\"product-card\" id=\"item2\">\n",
      "<h2 class=\"product-name\">蓝牙鼠标</h2>\n",
      "<p class=\"price\">199元</p>\n",
      "</div>\n",
      "-----------------------------------\n"
     ]
    }
   ],
   "source": [
    "# 使用CSS选择器查找所有产品卡片\n",
    "all_cards = soup.select('div.product-card')\n",
    "for x in all_cards:\n",
    "\tprint(x)\n",
    "\tprint(\"-----------------------------------\")"
   ]
  },
  {
   "cell_type": "code",
   "execution_count": 6,
   "id": "70e20c1e",
   "metadata": {},
   "outputs": [
    {
     "name": "stdout",
     "output_type": "stream",
     "text": [
      "价格标签的父级是: div, class=['product-card']\n"
     ]
    }
   ],
   "source": [
    "# 演示 parent\n",
    "price_tag = soup.find('p', class_='price')\n",
    "parent_div = price_tag.parent\n",
    "print(f\"价格标签的父级是: {parent_div.name}, class={parent_div.get('class')}\")"
   ]
  },
  {
   "cell_type": "code",
   "execution_count": 7,
   "id": "e3f7ccaa",
   "metadata": {},
   "outputs": [
    {
     "name": "stdout",
     "output_type": "stream",
     "text": [
      "h1标签的下一个兄弟节点: \n",
      "<div class=\"product-card\" id=\"item1\">\n",
      "<h2 class=\"product-name\">机械键盘\n",
      "\t  \t<h3 class=\"haha\"> test </h3>\n",
      "</h2>\n",
      "<p class=\"price\">499元\n",
      "\t  </p>\n",
      "</div>\n"
     ]
    }
   ],
   "source": [
    "# 演示 children\n",
    "h1_tag = soup.find('h1')\n",
    "print(\"h1标签的下一个兄弟节点: \")\n",
    "# 因为中间有空白文本节点，所以使用 .next_sibling.next_sibling\n",
    "print(h1_tag.next_sibling.next_sibling)"
   ]
  },
  {
   "cell_type": "code",
   "execution_count": 8,
   "id": "9b6ed902",
   "metadata": {},
   "outputs": [
    {
     "name": "stdout",
     "output_type": "stream",
     "text": [
      "提取的文本内容:  test \n"
     ]
    }
   ],
   "source": [
    "card_name = first_card_h2.text\n",
    "print(f\"提取的文本内容: {card_name}\")"
   ]
  },
  {
   "cell_type": "code",
   "execution_count": 9,
   "id": "d9248668",
   "metadata": {},
   "outputs": [
    {
     "name": "stdout",
     "output_type": "stream",
     "text": [
      "提取的 id 属性值: item1\n"
     ]
    }
   ],
   "source": [
    "# 提取属性值\n",
    "card_id = all_cards[0]['id']\n",
    "print(f\"提取的 id 属性值: {card_id}\")"
   ]
  },
  {
   "cell_type": "code",
   "execution_count": 10,
   "id": "66974d64",
   "metadata": {},
   "outputs": [
    {
     "name": "stdout",
     "output_type": "stream",
     "text": [
      "提取的标签名: h2\n"
     ]
    }
   ],
   "source": [
    "# 提取标签名\n",
    "tag_name = first_h2.name\n",
    "print(f\"提取的标签名: {tag_name}\")\n"
   ]
  },
  {
   "cell_type": "markdown",
   "id": "8a32cd51",
   "metadata": {},
   "source": [
    "## pandas 基本教程"
   ]
  },
  {
   "cell_type": "code",
   "execution_count": 11,
   "id": "5605e118",
   "metadata": {},
   "outputs": [],
   "source": [
    "import pandas as pd\t\n"
   ]
  },
  {
   "cell_type": "markdown",
   "id": "9768debc",
   "metadata": {},
   "source": [
    "## 提取未预处理的函数代码"
   ]
  },
  {
   "cell_type": "code",
   "execution_count": 8,
   "id": "518997b8",
   "metadata": {},
   "outputs": [],
   "source": [
    "import os\n",
    "import re\n",
    "import subprocess\n",
    "import json\n",
    "import tempfile\n",
    "import shutil\n",
    "from bs4 import BeautifulSoup\n",
    "\n",
    "from clang.cindex import Index, Config, CursorKind"
   ]
  },
  {
   "cell_type": "code",
   "execution_count": 14,
   "id": "062ed156",
   "metadata": {},
   "outputs": [],
   "source": [
    "def find_function_in_ast(node, original_file_path, target_line):\n",
    "    \"\"\"\n",
    "    函数功能: 递归遍历AST树, 查找包含目标行的函数定义节点\n",
    "    \"\"\"\n",
    "    \n",
    "    if node.kind == CursorKind.FUNCTION_DECL: #检查节点是否是函数类型\n",
    "        start_line = node.extent.start.line\n",
    "        end_line = node.extent.end.line\n",
    "        \n",
    "        if start_line <= target_line <= end_line:\n",
    "            file_path = node.location.file.name if node.location.file else ''\n",
    "            if os.path.normpath(file_path) == os.path.normpath(original_file_path):\n",
    "                return node\n",
    "\n",
    "    #若当前节点不是函数类型, 则递归遍历子节点\n",
    "    for child in node.get_children():\n",
    "        result = find_function_in_ast(child, original_file_path, target_line)\n",
    "        if result:\n",
    "            return result\n",
    "\n",
    "    return None\n",
    "\n",
    "def extract_function_with_libclang_ast(original_file_path, target_line):\n",
    "    try:\n",
    "        index = Index.create()\n",
    "        translation_unit = index.parse(original_file_path) #得到翻译单元\n",
    "        \n",
    "        # Traverse the AST to find the target function node\n",
    "        function_node = find_function_in_ast(translation_unit.cursor, original_file_path, target_line)\n",
    "        \n",
    "        if function_node:\n",
    "            # Extract start and end line numbers from the found function node\n",
    "            start_line = function_node.extent.start.line\n",
    "            end_line = function_node.extent.end.line\n",
    "            \n",
    "            # Read the code from the original file and extract the function part\n",
    "            with open(original_file_path, 'r', encoding='utf-8') as f:\n",
    "                lines = f.readlines()\n",
    "            \n",
    "            function_code = \"\".join(lines[start_line - 1: end_line])\n",
    "            return function_code\n",
    "        else:\n",
    "            print(f\"Error: Could not find function containing line {target_line} in AST.\")\n",
    "            return None\n",
    "            \n",
    "    except Exception as e:\n",
    "        print(f\"An error occurred: {e}\")\n",
    "        return None"
   ]
  },
  {
   "cell_type": "code",
   "execution_count": null,
   "id": "b535b348",
   "metadata": {},
   "outputs": [
    {
     "name": "stdout",
     "output_type": "stream",
     "text": [
      "int main(){\n",
      "\tint myMacro(x,A);\n",
      "\tLoop(x1,5)\n",
      "\tprintf(\"%d\\n\", x1); //test\n",
      "}\n"
     ]
    }
   ],
   "source": [
    "# 在原始文件中提取代码\n",
    "print(extract_function_with_libclang_ast(\"./main.c\",13))"
   ]
  },
  {
   "cell_type": "code",
   "execution_count": null,
   "id": "765977f1",
   "metadata": {},
   "outputs": [],
   "source": [
    "## 提取预处理后的函数代码"
   ]
  }
 ],
 "metadata": {
  "kernelspec": {
   "display_name": "Python 3",
   "language": "python",
   "name": "python3"
  },
  "language_info": {
   "codemirror_mode": {
    "name": "ipython",
    "version": 3
   },
   "file_extension": ".py",
   "mimetype": "text/x-python",
   "name": "python",
   "nbconvert_exporter": "python",
   "pygments_lexer": "ipython3",
   "version": "3.12.7"
  }
 },
 "nbformat": 4,
 "nbformat_minor": 5
}
